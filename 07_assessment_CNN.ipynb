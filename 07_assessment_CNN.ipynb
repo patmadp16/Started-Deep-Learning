{
  "nbformat": 4,
  "nbformat_minor": 0,
  "metadata": {
    "kernelspec": {
      "display_name": "Python 3",
      "language": "python",
      "name": "python3"
    },
    "language_info": {
      "codemirror_mode": {
        "name": "ipython",
        "version": 3
      },
      "file_extension": ".py",
      "mimetype": "text/x-python",
      "name": "python",
      "nbconvert_exporter": "python",
      "pygments_lexer": "ipython3",
      "version": "3.6.9"
    },
    "colab": {
      "name": "07_assessment_CNN.ipynb",
      "provenance": [],
      "collapsed_sections": [],
      "include_colab_link": true
    }
  },
  "cells": [
    {
      "cell_type": "markdown",
      "metadata": {
        "id": "view-in-github",
        "colab_type": "text"
      },
      "source": [
        "<a href=\"https://colab.research.google.com/github/patmadp16/Started-Deep-Learning/blob/main/07_assessment_CNN.ipynb\" target=\"_parent\"><img src=\"https://colab.research.google.com/assets/colab-badge.svg\" alt=\"Open In Colab\"/></a>"
      ]
    },
    {
      "cell_type": "markdown",
      "metadata": {
        "id": "r5MNesyh0iQT"
      },
      "source": [
        "<img src=\"./images/DLI_Header.png\" style=\"width: 400px;\">"
      ]
    },
    {
      "cell_type": "markdown",
      "metadata": {
        "id": "98va00GD0iQY"
      },
      "source": [
        "# Assessment"
      ]
    },
    {
      "cell_type": "markdown",
      "metadata": {
        "id": "UB0V5CVt0iQY"
      },
      "source": [
        "Congratulations on going through today's course! Hopefully, you've learned some valuable skills along the way and had fun doing it. Now it's time to put those skills to the test. In this assessment, you will train a new model that is able to recognize fresh and rotten fruit. You will need to get the model to a validation accuracy of `92%` in order to pass the assessment, though we challenge you to do even better if you can. You will have the use the skills that you learned in the previous exercises. Specifically, we suggest using some combination of transfer learning, data augmentation, and fine tuning. Once you have trained the model to be at least 92% accurate on the validation dataset, save your model, and then assess its accuracy. Let's get started! "
      ]
    },
    {
      "cell_type": "markdown",
      "metadata": {
        "id": "lPuDsG9X0iQZ"
      },
      "source": [
        "## The Dataset"
      ]
    },
    {
      "cell_type": "markdown",
      "metadata": {
        "id": "1wZi-49j0iQZ"
      },
      "source": [
        "In this exercise, you will train a model to recognize fresh and rotten fruits. The dataset comes from [Kaggle](https://www.kaggle.com/sriramr/fruits-fresh-and-rotten-for-classification), a great place to go if you're interested in starting a project after this class. The dataset structure is in the `data/fruits` folder. There are 6 categories of fruits: fresh apples, fresh oranges, fresh bananas, rotten apples, rotten oranges, and rotten bananas. This will mean that your model will require an output layer of 6 neurons to do the categorization successfully. You'll also need to compile the model with `categorical_crossentropy`, as we have more than two categories."
      ]
    },
    {
      "cell_type": "markdown",
      "metadata": {
        "id": "eWlQUtHY0iQb"
      },
      "source": [
        "## Load ImageNet Base Model"
      ]
    },
    {
      "cell_type": "markdown",
      "metadata": {
        "id": "vZp-YI2l0iQc"
      },
      "source": [
        "We encourage you to start with a model pretrained on ImageNet. Load the model with the correct weights, set an input shape, and choose to remove the last layers of the model. Remember that images have three dimensions: a height, and width, and a number of channels. Because these pictures are in color, there will be three channels for red, green, and blue. We've filled in the input shape for you. This cannot be changed or the assessment will fail. If you need a reference for setting up the pretrained model, please take a look at [notebook 05b](05b_presidential_doggy_door.ipynb) where we implemented transfer learning."
      ]
    },
    {
      "cell_type": "code",
      "metadata": {
        "id": "URzAwGFu0iQd"
      },
      "source": [
        "from tensorflow import keras\n",
        "\n",
        "base_model = keras.applications.VGG16(\n",
        "    weights='imagenet',\n",
        "    input_shape=(224, 224, 3),\n",
        "    include_top=False)"
      ],
      "execution_count": null,
      "outputs": []
    },
    {
      "cell_type": "code",
      "metadata": {
        "id": "vYP9RadQ0iQe",
        "outputId": "9c58fe52-c2dc-446d-c282-065640f09c34"
      },
      "source": [
        "\n",
        "base_model.summary()"
      ],
      "execution_count": null,
      "outputs": [
        {
          "name": "stdout",
          "output_type": "stream",
          "text": [
            "Model: \"vgg16\"\n",
            "_________________________________________________________________\n",
            "Layer (type)                 Output Shape              Param #   \n",
            "=================================================================\n",
            "input_1 (InputLayer)         [(None, 224, 224, 3)]     0         \n",
            "_________________________________________________________________\n",
            "block1_conv1 (Conv2D)        (None, 224, 224, 64)      1792      \n",
            "_________________________________________________________________\n",
            "block1_conv2 (Conv2D)        (None, 224, 224, 64)      36928     \n",
            "_________________________________________________________________\n",
            "block1_pool (MaxPooling2D)   (None, 112, 112, 64)      0         \n",
            "_________________________________________________________________\n",
            "block2_conv1 (Conv2D)        (None, 112, 112, 128)     73856     \n",
            "_________________________________________________________________\n",
            "block2_conv2 (Conv2D)        (None, 112, 112, 128)     147584    \n",
            "_________________________________________________________________\n",
            "block2_pool (MaxPooling2D)   (None, 56, 56, 128)       0         \n",
            "_________________________________________________________________\n",
            "block3_conv1 (Conv2D)        (None, 56, 56, 256)       295168    \n",
            "_________________________________________________________________\n",
            "block3_conv2 (Conv2D)        (None, 56, 56, 256)       590080    \n",
            "_________________________________________________________________\n",
            "block3_conv3 (Conv2D)        (None, 56, 56, 256)       590080    \n",
            "_________________________________________________________________\n",
            "block3_pool (MaxPooling2D)   (None, 28, 28, 256)       0         \n",
            "_________________________________________________________________\n",
            "block4_conv1 (Conv2D)        (None, 28, 28, 512)       1180160   \n",
            "_________________________________________________________________\n",
            "block4_conv2 (Conv2D)        (None, 28, 28, 512)       2359808   \n",
            "_________________________________________________________________\n",
            "block4_conv3 (Conv2D)        (None, 28, 28, 512)       2359808   \n",
            "_________________________________________________________________\n",
            "block4_pool (MaxPooling2D)   (None, 14, 14, 512)       0         \n",
            "_________________________________________________________________\n",
            "block5_conv1 (Conv2D)        (None, 14, 14, 512)       2359808   \n",
            "_________________________________________________________________\n",
            "block5_conv2 (Conv2D)        (None, 14, 14, 512)       2359808   \n",
            "_________________________________________________________________\n",
            "block5_conv3 (Conv2D)        (None, 14, 14, 512)       2359808   \n",
            "_________________________________________________________________\n",
            "block5_pool (MaxPooling2D)   (None, 7, 7, 512)         0         \n",
            "=================================================================\n",
            "Total params: 14,714,688\n",
            "Trainable params: 14,714,688\n",
            "Non-trainable params: 0\n",
            "_________________________________________________________________\n"
          ]
        }
      ]
    },
    {
      "cell_type": "markdown",
      "metadata": {
        "id": "ERjDBUYv0iQe"
      },
      "source": [
        "## Freeze Base Model"
      ]
    },
    {
      "cell_type": "markdown",
      "metadata": {
        "id": "iBf-fvDA0iQf"
      },
      "source": [
        "Next, we suggest freezing the base model, as done in [notebook 05b](05b_presidential_doggy_door.ipynb). This is done so that all the learning from the ImageNet dataset does not get destroyed in the initial training."
      ]
    },
    {
      "cell_type": "code",
      "metadata": {
        "id": "_zk05VcO0iQf"
      },
      "source": [
        "# Freeze base model\n",
        "base_model.trainable = False"
      ],
      "execution_count": null,
      "outputs": []
    },
    {
      "cell_type": "markdown",
      "metadata": {
        "id": "3Wuf5bHe0iQf"
      },
      "source": [
        "## Add Layers to Model"
      ]
    },
    {
      "cell_type": "markdown",
      "metadata": {
        "id": "KO0BqIv30iQg"
      },
      "source": [
        "Now it's time to add layers to the pretrained model. [Notebook 05b](05b_presidential_doggy_door.ipynb) can be used as a guide. Pay close attention to the last dense layer and make sure it has the correct number of neurons to classify the different types of fruit."
      ]
    },
    {
      "cell_type": "code",
      "metadata": {
        "id": "YxjHETIN0iQg"
      },
      "source": [
        "# Create inputs with correct shape\n",
        "inputs = keras.Input(shape=(224,224,3))\n",
        "\n",
        "x = base_model(inputs, training=False)\n",
        "\n",
        "# Add pooling layer or flatten layer\n",
        "x = keras.layers.GlobalAveragePooling2D()(x)\n",
        "\n",
        "# Add final dense layer\n",
        "outputs = keras.layers.Dense(6, activation = 'softmax')(x)\n",
        "\n",
        "# Combine inputs and outputs to create model\n",
        "model = keras.Model(inputs, outputs)\n"
      ],
      "execution_count": null,
      "outputs": []
    },
    {
      "cell_type": "code",
      "metadata": {
        "id": "l0-FjM2g0iQg",
        "outputId": "9d082d36-e118-416f-9007-539fdb2c7745"
      },
      "source": [
        "model.summary()"
      ],
      "execution_count": null,
      "outputs": [
        {
          "name": "stdout",
          "output_type": "stream",
          "text": [
            "Model: \"model\"\n",
            "_________________________________________________________________\n",
            "Layer (type)                 Output Shape              Param #   \n",
            "=================================================================\n",
            "input_2 (InputLayer)         [(None, 224, 224, 3)]     0         \n",
            "_________________________________________________________________\n",
            "vgg16 (Model)                (None, 7, 7, 512)         14714688  \n",
            "_________________________________________________________________\n",
            "global_average_pooling2d (Gl (None, 512)               0         \n",
            "_________________________________________________________________\n",
            "dense (Dense)                (None, 6)                 3078      \n",
            "=================================================================\n",
            "Total params: 14,717,766\n",
            "Trainable params: 3,078\n",
            "Non-trainable params: 14,714,688\n",
            "_________________________________________________________________\n"
          ]
        }
      ]
    },
    {
      "cell_type": "markdown",
      "metadata": {
        "id": "RnQ4ZFDO0iQh"
      },
      "source": [
        "## Compile Model"
      ]
    },
    {
      "cell_type": "markdown",
      "metadata": {
        "id": "v8n_q2l00iQh"
      },
      "source": [
        "Now it's time to compile the model with loss and metrics options. Remember that we're training on a number of different categories, rather than a binary classification problem."
      ]
    },
    {
      "cell_type": "code",
      "metadata": {
        "id": "G36VOFSf0iQh"
      },
      "source": [
        "model.compile(loss = keras.losses.BinaryCrossentropy(from_logits=True) , metrics = [keras.metrics.BinaryAccuracy()])\n",
        "#model.compile(loss='categorical_crossentropy', metrics=['accuracy'])"
      ],
      "execution_count": null,
      "outputs": []
    },
    {
      "cell_type": "markdown",
      "metadata": {
        "id": "MdtXbmpd0iQi"
      },
      "source": [
        "## Augment the Data"
      ]
    },
    {
      "cell_type": "markdown",
      "metadata": {
        "id": "ohIf5YL80iQi"
      },
      "source": [
        "If you'd like, try to augment the data to improve the dataset. Feel free to look at [notebook 04a](04a_asl_augmentation.ipynb) and [notebook 05b](05b_presidential_doggy_door.ipynb) for augmentation examples. There is also documentation for the [Keras ImageDataGenerator class](https://keras.io/api/preprocessing/image/#imagedatagenerator-class). This step is optional, but it may be helpful to get to 92% accuracy."
      ]
    },
    {
      "cell_type": "code",
      "metadata": {
        "id": "Fibfbalt0iQi"
      },
      "source": [
        "from tensorflow.keras.preprocessing.image import ImageDataGenerator\n",
        "\n",
        "datagen = ImageDataGenerator(\n",
        "        samplewise_center=True,  # set each sample mean to 0\n",
        "        rotation_range=10,  # randomly rotate images in the range (degrees, 0 to 180)\n",
        "        zoom_range = 0.1, # Randomly zoom image \n",
        "        width_shift_range=0.1,  # randomly shift images horizontally (fraction of total width)\n",
        "        height_shift_range=0.1,  # randomly shift images vertically (fraction of total height)\n",
        "        horizontal_flip=True,  # randomly flip images\n",
        "        vertical_flip=False\n",
        ")\n"
      ],
      "execution_count": null,
      "outputs": []
    },
    {
      "cell_type": "markdown",
      "metadata": {
        "id": "rofWDii10iQj"
      },
      "source": [
        "## Load Dataset"
      ]
    },
    {
      "cell_type": "markdown",
      "metadata": {
        "id": "5XqPr2xW0iQj"
      },
      "source": [
        "Now it's time to load the train and validation datasets. Pick the right folders, as well as the right `target_size` of the images (it needs to match the height and width input of the model you've created). If you'd like a reference, you can check out [notebook 05b](05b_presidential_doggy_door.ipynb)."
      ]
    },
    {
      "cell_type": "code",
      "metadata": {
        "id": "ikSvSAwF0iQj",
        "outputId": "d01e048b-47b1-4c1f-d087-454af5ea48c9"
      },
      "source": [
        "# load and iterate training dataset\n",
        "train_it = datagen.flow_from_directory(\"data/fruits/train/\", \n",
        "                                       target_size=(224,224), \n",
        "                                       color_mode='rgb', \n",
        "                                       class_mode=\"categorical\"\n",
        "                                      )\n",
        "# load and iterate validation dataset\n",
        "valid_it = datagen.flow_from_directory(\"data/fruits/valid/\", \n",
        "                                      target_size=(224,224), \n",
        "                                      color_mode='rgb', \n",
        "                                      class_mode=\"categorical\",\n",
        "                                      )"
      ],
      "execution_count": null,
      "outputs": [
        {
          "name": "stdout",
          "output_type": "stream",
          "text": [
            "Found 1182 images belonging to 6 classes.\n",
            "Found 329 images belonging to 6 classes.\n"
          ]
        }
      ]
    },
    {
      "cell_type": "markdown",
      "metadata": {
        "id": "MK49hqDU0iQk"
      },
      "source": [
        "## Train the Model"
      ]
    },
    {
      "cell_type": "markdown",
      "metadata": {
        "id": "NvRORNHb0iQk"
      },
      "source": [
        "Time to train the model! Pass the `train` and `valid` iterators into the `fit` function, as well as setting your desired number of epochs."
      ]
    },
    {
      "cell_type": "code",
      "metadata": {
        "id": "6Y7g_iPp0iQk",
        "outputId": "872ad6eb-52fe-4af0-ee71-77e6d3725c9c"
      },
      "source": [
        "model.fit(train_it,\n",
        "          validation_data=valid_it,\n",
        "          steps_per_epoch=train_it.samples/train_it.batch_size,\n",
        "          validation_steps=valid_it.samples/valid_it.batch_size,\n",
        "          epochs=20)"
      ],
      "execution_count": null,
      "outputs": [
        {
          "name": "stdout",
          "output_type": "stream",
          "text": [
            "Epoch 1/20\n",
            "37/36 [==============================] - 26s 712ms/step - loss: 0.7084 - binary_accuracy: 0.8450 - val_loss: 0.6885 - val_binary_accuracy: 0.8815\n",
            "Epoch 2/20\n",
            "37/36 [==============================] - 20s 550ms/step - loss: 0.6699 - binary_accuracy: 0.9234 - val_loss: 0.6594 - val_binary_accuracy: 0.9443\n",
            "Epoch 3/20\n",
            "37/36 [==============================] - 19s 525ms/step - loss: 0.6545 - binary_accuracy: 0.9535 - val_loss: 0.6501 - val_binary_accuracy: 0.9630\n",
            "Epoch 4/20\n",
            "37/36 [==============================] - 19s 525ms/step - loss: 0.6467 - binary_accuracy: 0.9705 - val_loss: 0.6435 - val_binary_accuracy: 0.9767\n",
            "Epoch 5/20\n",
            "37/36 [==============================] - 20s 528ms/step - loss: 0.6409 - binary_accuracy: 0.9811 - val_loss: 0.6397 - val_binary_accuracy: 0.9873\n",
            "Epoch 6/20\n",
            "37/36 [==============================] - 20s 528ms/step - loss: 0.6398 - binary_accuracy: 0.9831 - val_loss: 0.6409 - val_binary_accuracy: 0.9797\n",
            "Epoch 7/20\n",
            "37/36 [==============================] - 19s 524ms/step - loss: 0.6376 - binary_accuracy: 0.9889 - val_loss: 0.6412 - val_binary_accuracy: 0.9772\n",
            "Epoch 8/20\n",
            "37/36 [==============================] - 20s 528ms/step - loss: 0.6364 - binary_accuracy: 0.9900 - val_loss: 0.6435 - val_binary_accuracy: 0.9752\n",
            "Epoch 9/20\n",
            "37/36 [==============================] - 19s 526ms/step - loss: 0.6357 - binary_accuracy: 0.9903 - val_loss: 0.6374 - val_binary_accuracy: 0.9853\n",
            "Epoch 10/20\n",
            "37/36 [==============================] - 19s 525ms/step - loss: 0.6353 - binary_accuracy: 0.9918 - val_loss: 0.6362 - val_binary_accuracy: 0.9899\n",
            "Epoch 11/20\n",
            "37/36 [==============================] - 19s 515ms/step - loss: 0.6351 - binary_accuracy: 0.9911 - val_loss: 0.6368 - val_binary_accuracy: 0.9883\n",
            "Epoch 12/20\n",
            "37/36 [==============================] - 19s 522ms/step - loss: 0.6340 - binary_accuracy: 0.9938 - val_loss: 0.6356 - val_binary_accuracy: 0.9904\n",
            "Epoch 13/20\n",
            "37/36 [==============================] - 19s 523ms/step - loss: 0.6334 - binary_accuracy: 0.9942 - val_loss: 0.6376 - val_binary_accuracy: 0.9868\n",
            "Epoch 14/20\n",
            "37/36 [==============================] - 19s 524ms/step - loss: 0.6334 - binary_accuracy: 0.9944 - val_loss: 0.6354 - val_binary_accuracy: 0.9894\n",
            "Epoch 15/20\n",
            "37/36 [==============================] - 19s 525ms/step - loss: 0.6330 - binary_accuracy: 0.9952 - val_loss: 0.6349 - val_binary_accuracy: 0.9919\n",
            "Epoch 16/20\n",
            "37/36 [==============================] - 19s 524ms/step - loss: 0.6326 - binary_accuracy: 0.9955 - val_loss: 0.6364 - val_binary_accuracy: 0.9868\n",
            "Epoch 17/20\n",
            "37/36 [==============================] - 20s 530ms/step - loss: 0.6329 - binary_accuracy: 0.9952 - val_loss: 0.6375 - val_binary_accuracy: 0.9858\n",
            "Epoch 18/20\n",
            "37/36 [==============================] - 19s 522ms/step - loss: 0.6324 - binary_accuracy: 0.9966 - val_loss: 0.6348 - val_binary_accuracy: 0.9919\n",
            "Epoch 19/20\n",
            "37/36 [==============================] - 19s 525ms/step - loss: 0.6322 - binary_accuracy: 0.9965 - val_loss: 0.6347 - val_binary_accuracy: 0.9924\n",
            "Epoch 20/20\n",
            "37/36 [==============================] - 19s 522ms/step - loss: 0.6320 - binary_accuracy: 0.9970 - val_loss: 0.6366 - val_binary_accuracy: 0.9868\n"
          ]
        },
        {
          "data": {
            "text/plain": [
              "<tensorflow.python.keras.callbacks.History at 0x7f28f01dbef0>"
            ]
          },
          "execution_count": 14,
          "metadata": {},
          "output_type": "execute_result"
        }
      ]
    },
    {
      "cell_type": "markdown",
      "metadata": {
        "id": "_O4-gGaP0iQk"
      },
      "source": [
        "## Unfreeze Model for Fine Tuning"
      ]
    },
    {
      "cell_type": "markdown",
      "metadata": {
        "id": "QmOG1_oX0iQk"
      },
      "source": [
        "If you have reached 92% validation accuracy already, this next step is optional. If not, we suggest fine tuning the model with a very low learning rate."
      ]
    },
    {
      "cell_type": "code",
      "metadata": {
        "id": "L92V6hCo0iQl"
      },
      "source": [
        "# Unfreeze the base model\n",
        "base_model.trainable = True\n",
        "\n",
        "# Compile the model with a low learning rate\n",
        "model.compile(optimizer=keras.optimizers.RMSprop(learning_rate = .00001),\n",
        "              loss=keras.losses.BinaryCrossentropy(from_logits=True),\n",
        "              metrics=[keras.metrics.BinaryAccuracy()])"
      ],
      "execution_count": null,
      "outputs": []
    },
    {
      "cell_type": "code",
      "metadata": {
        "id": "LgA7EWHJ0iQl",
        "outputId": "45fc8377-45e2-47fb-f726-d9e6bdd22a3b"
      },
      "source": [
        "model.fit(train_it,\n",
        "          validation_data=valid_it,\n",
        "          steps_per_epoch=train_it.samples/train_it.batch_size,\n",
        "          validation_steps=valid_it.samples/valid_it.batch_size,\n",
        "          epochs=10)"
      ],
      "execution_count": null,
      "outputs": [
        {
          "name": "stdout",
          "output_type": "stream",
          "text": [
            "Epoch 1/10\n",
            "37/36 [==============================] - 36s 977ms/step - loss: 0.6346 - binary_accuracy: 0.9918 - val_loss: 0.6333 - val_binary_accuracy: 0.9939\n",
            "Epoch 2/10\n",
            "37/36 [==============================] - 24s 640ms/step - loss: 0.6317 - binary_accuracy: 0.9963 - val_loss: 0.6399 - val_binary_accuracy: 0.9807\n",
            "Epoch 3/10\n",
            "37/36 [==============================] - 22s 594ms/step - loss: 0.6319 - binary_accuracy: 0.9966 - val_loss: 0.6413 - val_binary_accuracy: 0.9757\n",
            "Epoch 4/10\n",
            "37/36 [==============================] - 23s 609ms/step - loss: 0.6316 - binary_accuracy: 0.9961 - val_loss: 0.6332 - val_binary_accuracy: 0.9929\n",
            "Epoch 5/10\n",
            "37/36 [==============================] - 23s 618ms/step - loss: 0.6317 - binary_accuracy: 0.9966 - val_loss: 0.6317 - val_binary_accuracy: 0.9970\n",
            "Epoch 6/10\n",
            "37/36 [==============================] - 23s 614ms/step - loss: 0.6315 - binary_accuracy: 0.9969 - val_loss: 0.6309 - val_binary_accuracy: 0.9980\n",
            "Epoch 7/10\n",
            "37/36 [==============================] - 23s 613ms/step - loss: 0.6318 - binary_accuracy: 0.9963 - val_loss: 0.6350 - val_binary_accuracy: 0.9909\n",
            "Epoch 8/10\n",
            "37/36 [==============================] - 23s 624ms/step - loss: 0.6310 - binary_accuracy: 0.9975 - val_loss: 0.6349 - val_binary_accuracy: 0.9909\n",
            "Epoch 9/10\n",
            "37/36 [==============================] - ETA: 0s - loss: 0.6308 - binary_accuracy: 0.9980"
          ]
        }
      ]
    },
    {
      "cell_type": "markdown",
      "metadata": {
        "id": "qnn3mY-t0iQl"
      },
      "source": [
        "## Evaluate the Model"
      ]
    },
    {
      "cell_type": "markdown",
      "metadata": {
        "id": "GWytdAVT0iQl"
      },
      "source": [
        "Hopefully, you now have a model that has a validation accuracy of 92% or higher. If not, you may want to go back and either run more epochs of training, or adjust your data augmentation. \n",
        "\n",
        "Once you are satisfied with the validation accuracy, evaluate the model by executing the following cell. The evaluate function will return a tuple, where the first value is your loss, and the second value is your accuracy. To pass, the model will need have an accuracy value of `92% or higher`. "
      ]
    },
    {
      "cell_type": "code",
      "metadata": {
        "id": "gZmCg7md0iQl"
      },
      "source": [
        "model.evaluate(valid_it, steps=valid_it.samples/valid_it.batch_size)"
      ],
      "execution_count": null,
      "outputs": []
    },
    {
      "cell_type": "markdown",
      "metadata": {
        "id": "K1HtB2R00iQm"
      },
      "source": [
        "## Run the Assessment"
      ]
    },
    {
      "cell_type": "markdown",
      "metadata": {
        "id": "FpRsBk1e0iQm"
      },
      "source": [
        "To assess your model run the following two cells.\n",
        "\n",
        "**NOTE:** `run_assessment` assumes your model is named `model` and your validation data iterator is called `valid_it`. If for any reason you have modified these variable names, please update the names of the arguments passed to `run_assessment`."
      ]
    },
    {
      "cell_type": "code",
      "metadata": {
        "id": "VbtlFyju0iQm"
      },
      "source": [
        "from run_assessment import run_assessment"
      ],
      "execution_count": null,
      "outputs": []
    },
    {
      "cell_type": "code",
      "metadata": {
        "id": "s8vejzHT0iQm"
      },
      "source": [
        "run_assessment(model, valid_it)"
      ],
      "execution_count": null,
      "outputs": []
    },
    {
      "cell_type": "markdown",
      "metadata": {
        "id": "LHQL9udT0iQm"
      },
      "source": [
        "## Generate a Certificate"
      ]
    },
    {
      "cell_type": "markdown",
      "metadata": {
        "id": "LS_IB3BD0iQm"
      },
      "source": [
        "If you passed the assessment, please return to the course page (shown below) and click the \"ASSESS TASK\" button, which will generate your certificate for the course."
      ]
    },
    {
      "cell_type": "markdown",
      "metadata": {
        "id": "nL0jQ6r50iQn"
      },
      "source": [
        "<img src=\"./images/assess_task.png\" style=\"width: 800px;\">"
      ]
    }
  ]
}